{
 "cells": [
  {
   "cell_type": "code",
   "execution_count": 1,
   "id": "8d77584a",
   "metadata": {},
   "outputs": [],
   "source": [
    "from bs4 import BeautifulSoup\n",
    "import requests\n",
    "from PIL import Image\n",
    "from io import BytesIO\n",
    "import pandas as pd\n",
    "import itertools\n",
    "import matplotlib.pyplot as plt\n",
    "import re\n",
    "import time\n",
    "from datetime import date, timedelta"
   ]
  },
  {
   "cell_type": "code",
   "execution_count": 2,
   "id": "98da7221",
   "metadata": {},
   "outputs": [
    {
     "data": {
      "text/plain": [
       "(13387, 8)"
      ]
     },
     "execution_count": 2,
     "metadata": {},
     "output_type": "execute_result"
    }
   ],
   "source": [
    "pd.set_option('display.max_colwidth', None)\n",
    "article_df = pd.read_excel('NOS_articles_221004-231004.xlsx')\n",
    "article_df['Category'] = None\n",
    "article_df['Images'] = None\n",
    "article_df['Paragraphs'] = None\n",
    "article_df.shape"
   ]
  },
  {
   "cell_type": "code",
   "execution_count": 8,
   "id": "7f4ec16a",
   "metadata": {},
   "outputs": [],
   "source": [
    "def extract_data_from_url(url):\n",
    "    try:\n",
    "        response = requests.get(url)\n",
    "        response.raise_for_status()\n",
    "        if response.status_code == 200:\n",
    "            soup = BeautifulSoup(response.text, 'lxml')\n",
    "            \n",
    "            # Find the header image\n",
    "            featured_image_div = soup.find('div', class_='sc-f8368fbb-0 eYpAEN')\n",
    "            \n",
    "            featured_image = []\n",
    "            if featured_image_div:\n",
    "                featured_image = [img['src'] for img in featured_image_div.find_all('img')]\n",
    "                    \n",
    "            # Find the article text and category\n",
    "            target_divs = soup.find_all('div', class_='sc-e0c07641-1 eHATPt')\n",
    "            target_paragraphs = []\n",
    "            article_category = []\n",
    "            \n",
    "            for div in target_divs:\n",
    "                paragraphs = [p.get_text() for p in div.find_all('p', class_='sc-6d77a1d1-0 chzewu')]\n",
    "                target_paragraphs.extend(paragraphs)\n",
    "                \n",
    "                category = [p.get_text() for p in div.find_all('p', class_='sc-f9df6382-7 cMuisv')]\n",
    "                article_category.extend(category)\n",
    "                \n",
    "            return article_category, featured_image, target_paragraphs\n",
    "        else:\n",
    "            print(f\"Failed to fetch URL: {url}\")\n",
    "            return None, None, None\n",
    "    except Exception as e:\n",
    "        print(f\"Error processing URL: {url}\\n{str(e)}\")\n",
    "        return None, None, None"
   ]
  },
  {
   "cell_type": "code",
   "execution_count": 12,
   "id": "e26535ec",
   "metadata": {},
   "outputs": [
    {
     "name": "stdout",
     "output_type": "stream",
     "text": [
      "Error processing URL: https://nos.nl/artikel/2468439-schip-kantelt-tegen-de-kade-in-schotland-25-gewonden\n",
      "504 Server Error: Gateway Time-out for url: https://nos.nl/artikel/2468439-schip-kantelt-tegen-de-kade-in-schotland-25-gewonden\n",
      "Elapsed time: 63 minutes and 21 seconds\n"
     ]
    }
   ],
   "source": [
    "start_time = time.time()\n",
    "\n",
    "for index, row in article_df.iterrows():\n",
    "    url = row['Link']\n",
    "    article_category, featured_image, target_paragraphs = extract_data_from_url(url)\n",
    "    \n",
    "    if article_category == None:\n",
    "        article_category = ''\n",
    "    if featured_image == None:\n",
    "        featured_image = ''\n",
    "    if target_paragraphs == None:\n",
    "        target_paragraphs = ''\n",
    "        \n",
    "    \n",
    "    # Store the extracted data in your DataFrame (create new columns as needed)\n",
    "    article_df.at[index, 'Category'] = article_category\n",
    "    article_df.at[index, 'Images'] = featured_image\n",
    "    article_df.at[index, 'Paragraphs'] = target_paragraphs\n",
    "    \n",
    "end_time = time.time()\n",
    "elapsed_time = end_time - start_time\n",
    "elapsed_minutes = int(elapsed_time // 60)\n",
    "elapsed_seconds = int(elapsed_time % 60)\n",
    "\n",
    "\n",
    "print(f'Elapsed time: {elapsed_minutes} minutes and {elapsed_seconds} seconds')"
   ]
  },
  {
   "cell_type": "markdown",
   "id": "0edd9250",
   "metadata": {},
   "source": [
    "Elapsed time for #rows\n",
    "\n",
    "    10 : 0 minutes and 0 seconds\n",
    "    100 : 0 minutes and 11 seconds\n",
    "    500 : 1 minutes and 53 seconds\n",
    "    1000 : 3 mintues and 5 seconds\n",
    "    \n",
    "    13387 : 63 mintues and 21 seconds"
   ]
  },
  {
   "cell_type": "code",
   "execution_count": 38,
   "id": "8f1ba348",
   "metadata": {},
   "outputs": [
    {
     "name": "stdout",
     "output_type": "stream",
     "text": [
      "(13387, 8)\n"
     ]
    },
    {
     "data": {
      "text/plain": [
       "Index(['Article ID', 'Link', 'Title', 'Date', 'Time', 'Category', 'Images',\n",
       "       'Paragraphs'],\n",
       "      dtype='object')"
      ]
     },
     "execution_count": 38,
     "metadata": {},
     "output_type": "execute_result"
    }
   ],
   "source": [
    "print(article_df.shape)\n",
    "article_df.columns"
   ]
  },
  {
   "cell_type": "code",
   "execution_count": 40,
   "id": "0219fb15",
   "metadata": {},
   "outputs": [],
   "source": [
    "# article_df.to_excel('NOS_articles_221004-231004.xlsx')"
   ]
  },
  {
   "cell_type": "markdown",
   "id": "bedc1700",
   "metadata": {},
   "source": [
    "### Correct empty categories to 'Liveblog'"
   ]
  },
  {
   "cell_type": "code",
   "execution_count": 31,
   "id": "bafc1216",
   "metadata": {},
   "outputs": [],
   "source": [
    "article_df.loc[article_df['Category'] == '', 'Category'] = 'Liveblog'"
   ]
  },
  {
   "cell_type": "code",
   "execution_count": 34,
   "id": "63503ce7",
   "metadata": {},
   "outputs": [],
   "source": [
    "article_df.to_excel('NOS_articles_including_liveblogs_221004-231004.xlsx')"
   ]
  },
  {
   "cell_type": "markdown",
   "id": "f2fefd05",
   "metadata": {},
   "source": [
    "### Manually add missing data due to server error"
   ]
  },
  {
   "cell_type": "code",
   "execution_count": 41,
   "id": "d31e1074",
   "metadata": {},
   "outputs": [],
   "source": [
    "article_df_ = article_df.copy()"
   ]
  },
  {
   "cell_type": "code",
   "execution_count": 68,
   "id": "ecfe1376",
   "metadata": {},
   "outputs": [],
   "source": [
    "row_index = article_df_[article_df_['Link'] == 'https://nos.nl/artikel/2468439-schip-kantelt-tegen-de-kade-in-schotland-25-gewonden'].index[0]\n",
    "\n",
    "# Use .iloc to set values in the specified columns for that row\n",
    "article_df_.iloc[row_index, article_df_.columns.get_loc('Category')] = missing_article_category\n",
    "article_df_.iloc[row_index, article_df_.columns.get_loc('Images')] = missing_article_image\n",
    "article_df_.iat[row_index, 7] = missing_article_paragraphs"
   ]
  },
  {
   "cell_type": "markdown",
   "id": "16ee567b",
   "metadata": {},
   "source": [
    "### Write .excel "
   ]
  },
  {
   "cell_type": "code",
   "execution_count": 70,
   "id": "5563f6aa",
   "metadata": {},
   "outputs": [],
   "source": [
    "article_df_.to_excel('NOS_articles_221004-231004_corrected.xlsx')"
   ]
  },
  {
   "cell_type": "code",
   "execution_count": null,
   "id": "69e742d6",
   "metadata": {},
   "outputs": [],
   "source": []
  }
 ],
 "metadata": {
  "kernelspec": {
   "display_name": "Python 3 (ipykernel)",
   "language": "python",
   "name": "python3"
  },
  "language_info": {
   "codemirror_mode": {
    "name": "ipython",
    "version": 3
   },
   "file_extension": ".py",
   "mimetype": "text/x-python",
   "name": "python",
   "nbconvert_exporter": "python",
   "pygments_lexer": "ipython3",
   "version": "3.11.4"
  }
 },
 "nbformat": 4,
 "nbformat_minor": 5
}
