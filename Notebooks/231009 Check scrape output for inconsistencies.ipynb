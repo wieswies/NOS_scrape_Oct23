{
 "cells": [
  {
   "cell_type": "code",
   "execution_count": 1,
   "id": "8d77584a",
   "metadata": {},
   "outputs": [],
   "source": [
    "from bs4 import BeautifulSoup\n",
    "import requests\n",
    "import pandas as pd\n",
    "import itertools\n",
    "import matplotlib.pyplot as plt\n",
    "import re\n",
    "import time\n",
    "from datetime import date, timedelta"
   ]
  },
  {
   "cell_type": "code",
   "execution_count": 13,
   "id": "bf03cd32",
   "metadata": {},
   "outputs": [],
   "source": [
    "# Initialize \n",
    "start_date = date(2022, 4, 10)\n",
    "end_date = date(2023, 4, 10)\n",
    "\n",
    "date_array = pd.date_range(start_date,end_date-timedelta(days=1),freq='d').date\n",
    "\n",
    "article_data_list = []"
   ]
  },
  {
   "cell_type": "code",
   "execution_count": 14,
   "id": "f996267b",
   "metadata": {},
   "outputs": [
    {
     "name": "stdout",
     "output_type": "stream",
     "text": [
      "Elapsed time: 3 minutes and 26 seconds\n"
     ]
    }
   ],
   "source": [
    "start_time = time.time()\n",
    "\n",
    "for i in date_array:\n",
    "    url = 'https://nos.nl/nieuws/archief/{}'.format(i)\n",
    "    response = requests.get(url)\n",
    "    \n",
    "    if response.status_code == 200:\n",
    "        html_content = response.text\n",
    "        soup = BeautifulSoup(html_content, 'html.parser')\n",
    "\n",
    "        # Find all the <time> elements on the page\n",
    "        time_elements = soup.find_all('time')\n",
    "        title_elements = soup.find_all(class_='list-time__title link-hover')\n",
    "\n",
    "        if time_elements and title_elements:\n",
    "            for i in range(len(time_elements)):\n",
    "\n",
    "                # Extract the article-id from the href attribute\n",
    "                href = title_elements[i].find_parent('a')['href']\n",
    "                article_id_match = re.search(r'/artikel/(\\d+)-', href)\n",
    "                article_id = article_id_match.group(1) if article_id_match else 'N/A'\n",
    "\n",
    "                # Extract the title \n",
    "                title_text = title_elements[i].text.strip()\n",
    "\n",
    "                # Extract the date and time part from the datetime attribute\n",
    "                datetime_value = time_elements[i].get('datetime', '')\n",
    "                date_time_parts = datetime_value.split('T')\n",
    "                date_part = date_time_parts[0]\n",
    "                time_part = date_time_parts[1].split('+')[0]\n",
    "\n",
    "                # Create the dictionary with article data\n",
    "                article_data = {\n",
    "                    'Article ID': article_id,\n",
    "                    'Link': url + href,\n",
    "                    'Title': title_text,\n",
    "                    'Date': date_part,\n",
    "                    'Time': time_part\n",
    "                }\n",
    "\n",
    "                # Append dictionary elements to list\n",
    "                article_data_list.append(article_data)\n",
    "        else:\n",
    "            print(\"No publication date or title found on the webpage\")\n",
    "    else:\n",
    "        print(\"Failed to retrieve the webpage\")\n",
    "\n",
    "end_time = time.time()\n",
    "elapsed_time = end_time - start_time\n",
    "elapsed_minutes = int(elapsed_time // 60)\n",
    "elapsed_seconds = int(elapsed_time % 60)\n",
    "\n",
    "\n",
    "print(f'Elapsed time: {elapsed_minutes} minutes and {elapsed_seconds} seconds')"
   ]
  },
  {
   "cell_type": "markdown",
   "id": "f107a398",
   "metadata": {},
   "source": [
    "Train WIFI output\n",
    "\n",
    "    Elapsed time: 21 minutes and 23 seconds\n",
    "    Dataframe shape: (14044, 5)\n",
    "    Unique rows [Article ID]: 13607\n",
    "    Unique rows [Link]: 13809\n",
    "    Unique rows [Title]: 13808\n",
    "    Unique rows [Date]: 365\n",
    "    \n",
    "Eduroam WIFI output\n",
    "\n",
    "    Elapsed time: 3 minutes and 26 seconds\n",
    "    Dataframe shape: (13809, 5)\n",
    "    Unique rows [Article ID]: 13607\n",
    "    Unique rows [Link]: 13809\n",
    "    Unique rows [Title]: 13808\n",
    "    Unique rows [Date]: 365"
   ]
  },
  {
   "cell_type": "code",
   "execution_count": 15,
   "id": "b3836515",
   "metadata": {},
   "outputs": [],
   "source": [
    "article_df = pd.DataFrame(article_data_list)\n",
    "#article_df.set_index('Article ID', inplace=True)\n",
    "#article_df.to_excel('test_NOS_articles_231004-221004.xlsx')"
   ]
  },
  {
   "cell_type": "code",
   "execution_count": 16,
   "id": "a6c4f83c",
   "metadata": {},
   "outputs": [
    {
     "data": {
      "text/plain": [
       "(13809, 5)"
      ]
     },
     "execution_count": 16,
     "metadata": {},
     "output_type": "execute_result"
    }
   ],
   "source": [
    "article_df.shape"
   ]
  },
  {
   "cell_type": "code",
   "execution_count": 17,
   "id": "b503676d",
   "metadata": {},
   "outputs": [
    {
     "name": "stdout",
     "output_type": "stream",
     "text": [
      "13607\n",
      "13809\n",
      "13808\n",
      "365\n"
     ]
    }
   ],
   "source": [
    "print(article_df['Article ID'].nunique())\n",
    "print(article_df['Link'].nunique())\n",
    "print(article_df['Title'].nunique())\n",
    "print(article_df['Date'].nunique())"
   ]
  },
  {
   "cell_type": "code",
   "execution_count": null,
   "id": "98da7221",
   "metadata": {},
   "outputs": [],
   "source": []
  }
 ],
 "metadata": {
  "kernelspec": {
   "display_name": "Python 3 (ipykernel)",
   "language": "python",
   "name": "python3"
  },
  "language_info": {
   "codemirror_mode": {
    "name": "ipython",
    "version": 3
   },
   "file_extension": ".py",
   "mimetype": "text/x-python",
   "name": "python",
   "nbconvert_exporter": "python",
   "pygments_lexer": "ipython3",
   "version": "3.11.4"
  }
 },
 "nbformat": 4,
 "nbformat_minor": 5
}
