{
 "cells": [
  {
   "cell_type": "code",
   "execution_count": 10,
   "id": "8d77584a",
   "metadata": {},
   "outputs": [],
   "source": [
    "from bs4 import BeautifulSoup\n",
    "import requests\n",
    "from PIL import Image\n",
    "from io import BytesIO\n",
    "import pandas as pd\n",
    "import itertools\n",
    "import matplotlib.pyplot as plt\n",
    "import re\n",
    "import time\n",
    "from datetime import date, timedelta"
   ]
  },
  {
   "cell_type": "code",
   "execution_count": 64,
   "id": "98da7221",
   "metadata": {},
   "outputs": [
    {
     "data": {
      "text/plain": [
       "(13387, 8)"
      ]
     },
     "execution_count": 64,
     "metadata": {},
     "output_type": "execute_result"
    }
   ],
   "source": [
    "pd.set_option('display.max_colwidth', None)\n",
    "article_df = pd.read_excel('NOS_articles_221004-231004.xlsx')\n",
    "article_df['Category'] = None\n",
    "article_df['Images'] = None\n",
    "article_df['Paragraphs'] = None\n",
    "article_df.shape"
   ]
  },
  {
   "cell_type": "code",
   "execution_count": 169,
   "id": "7f4ec16a",
   "metadata": {},
   "outputs": [],
   "source": [
    "def extract_data_from_url(url):\n",
    "    try:\n",
    "        response = requests.get(url)\n",
    "        response.raise_for_status()\n",
    "        if response.status_code == 200:\n",
    "            soup = BeautifulSoup(response.text, 'lxml')\n",
    "            \n",
    "            # Find the header image\n",
    "            featured_image_div = soup.find('div', class_='sc-f8368fbb-0 eYpAEN')\n",
    "            \n",
    "            featured_image = []\n",
    "            if featured_image_div:\n",
    "                featured_image = [img['src'] for img in featured_image_div.find_all('img')]\n",
    "                    \n",
    "            # Find the article text and category\n",
    "            target_divs = soup.find_all('div', class_='sc-e0c07641-1 eHATPt')\n",
    "            target_paragraphs = []\n",
    "            article_category = []\n",
    "            \n",
    "            for div in target_divs:\n",
    "                paragraphs = [p.get_text() for p in div.find_all('p', class_='sc-6d77a1d1-0 chzewu')]\n",
    "                target_paragraphs.extend(paragraphs)\n",
    "                \n",
    "                category = [p.get_text() for p in div.find_all('p', class_='sc-f9df6382-7 cMuisv')]\n",
    "                article_category.extend(category)\n",
    "                \n",
    "            return article_category, featured_image, target_paragraphs\n",
    "        else:\n",
    "            print(f\"Failed to fetch URL: {url}\")\n",
    "            return None, None\n",
    "    except Exception as e:\n",
    "        print(f\"Error processing URL: {url}\\n{str(e)}\")\n",
    "        return None, None"
   ]
  },
  {
   "cell_type": "code",
   "execution_count": 170,
   "id": "7f40b5dd",
   "metadata": {},
   "outputs": [
    {
     "data": {
      "text/plain": [
       "(10, 8)"
      ]
     },
     "execution_count": 170,
     "metadata": {},
     "output_type": "execute_result"
    }
   ],
   "source": [
    "# Make test set to test the code\n",
    "test_set = article_df.copy()[:10]\n",
    "test_set.shape"
   ]
  },
  {
   "cell_type": "code",
   "execution_count": 171,
   "id": "dec9ab17",
   "metadata": {},
   "outputs": [
    {
     "data": {
      "text/html": [
       "<div>\n",
       "<style scoped>\n",
       "    .dataframe tbody tr th:only-of-type {\n",
       "        vertical-align: middle;\n",
       "    }\n",
       "\n",
       "    .dataframe tbody tr th {\n",
       "        vertical-align: top;\n",
       "    }\n",
       "\n",
       "    .dataframe thead th {\n",
       "        text-align: right;\n",
       "    }\n",
       "</style>\n",
       "<table border=\"1\" class=\"dataframe\">\n",
       "  <thead>\n",
       "    <tr style=\"text-align: right;\">\n",
       "      <th></th>\n",
       "      <th>Article ID</th>\n",
       "      <th>Link</th>\n",
       "      <th>Title</th>\n",
       "      <th>Date</th>\n",
       "      <th>Time</th>\n",
       "      <th>Category</th>\n",
       "      <th>Images</th>\n",
       "      <th>Paragraphs</th>\n",
       "    </tr>\n",
       "  </thead>\n",
       "  <tbody>\n",
       "    <tr>\n",
       "      <th>0</th>\n",
       "      <td>2447107.0</td>\n",
       "      <td>https://nos.nl/artikel/2447107-britse-regering-kondigt-hardere-koers-tegen-illegale-immigranten-aan</td>\n",
       "      <td>Britse regering kondigt hardere koers tegen illegale immigranten aan</td>\n",
       "      <td>2022-10-04</td>\n",
       "      <td>22:58:15</td>\n",
       "      <td>None</td>\n",
       "      <td>None</td>\n",
       "      <td>None</td>\n",
       "    </tr>\n",
       "    <tr>\n",
       "      <th>1</th>\n",
       "      <td>2447103.0</td>\n",
       "      <td>https://nos.nl/artikel/2447103-nog-veel-onbekend-over-energieplafond-bedrijven-duidelijkheid-snel-nodig</td>\n",
       "      <td>Nog veel onbekend over energieplafond bedrijven: 'Duidelijkheid snel nodig'</td>\n",
       "      <td>2022-10-04</td>\n",
       "      <td>22:43:15</td>\n",
       "      <td>None</td>\n",
       "      <td>None</td>\n",
       "      <td>None</td>\n",
       "    </tr>\n",
       "    <tr>\n",
       "      <th>2</th>\n",
       "      <td>2447102.0</td>\n",
       "      <td>https://nos.nl/artikel/2447102-puinspoor-van-10-000-kilometer-volgt-ruimterots-die-botste-met-sonde</td>\n",
       "      <td>Puinspoor van 10.000 kilometer volgt ruimterots die botste met sonde</td>\n",
       "      <td>2022-10-04</td>\n",
       "      <td>22:33:13</td>\n",
       "      <td>None</td>\n",
       "      <td>None</td>\n",
       "      <td>None</td>\n",
       "    </tr>\n",
       "    <tr>\n",
       "      <th>3</th>\n",
       "      <td>2447100.0</td>\n",
       "      <td>https://nos.nl/artikel/2447100-begrip-bij-geemigreerde-boeren-voor-acties-wij-gaan-nooit-meer-terug</td>\n",
       "      <td>Begrip bij geëmigreerde boeren voor acties: 'Wij gaan nooit meer terug'</td>\n",
       "      <td>2022-10-04</td>\n",
       "      <td>21:56:48</td>\n",
       "      <td>None</td>\n",
       "      <td>None</td>\n",
       "      <td>None</td>\n",
       "    </tr>\n",
       "    <tr>\n",
       "      <th>4</th>\n",
       "      <td>2447098.0</td>\n",
       "      <td>https://nos.nl/artikel/2447098-vredesbesprekingen-regering-colombia-en-guerrillabeweging-worden-hervat</td>\n",
       "      <td>Vredesbesprekingen regering Colombia en guerrillabeweging worden hervat</td>\n",
       "      <td>2022-10-04</td>\n",
       "      <td>20:56:01</td>\n",
       "      <td>None</td>\n",
       "      <td>None</td>\n",
       "      <td>None</td>\n",
       "    </tr>\n",
       "  </tbody>\n",
       "</table>\n",
       "</div>"
      ],
      "text/plain": [
       "   Article ID  \\\n",
       "0   2447107.0   \n",
       "1   2447103.0   \n",
       "2   2447102.0   \n",
       "3   2447100.0   \n",
       "4   2447098.0   \n",
       "\n",
       "                                                                                                      Link  \\\n",
       "0      https://nos.nl/artikel/2447107-britse-regering-kondigt-hardere-koers-tegen-illegale-immigranten-aan   \n",
       "1  https://nos.nl/artikel/2447103-nog-veel-onbekend-over-energieplafond-bedrijven-duidelijkheid-snel-nodig   \n",
       "2      https://nos.nl/artikel/2447102-puinspoor-van-10-000-kilometer-volgt-ruimterots-die-botste-met-sonde   \n",
       "3      https://nos.nl/artikel/2447100-begrip-bij-geemigreerde-boeren-voor-acties-wij-gaan-nooit-meer-terug   \n",
       "4   https://nos.nl/artikel/2447098-vredesbesprekingen-regering-colombia-en-guerrillabeweging-worden-hervat   \n",
       "\n",
       "                                                                         Title  \\\n",
       "0         Britse regering kondigt hardere koers tegen illegale immigranten aan   \n",
       "1  Nog veel onbekend over energieplafond bedrijven: 'Duidelijkheid snel nodig'   \n",
       "2         Puinspoor van 10.000 kilometer volgt ruimterots die botste met sonde   \n",
       "3      Begrip bij geëmigreerde boeren voor acties: 'Wij gaan nooit meer terug'   \n",
       "4      Vredesbesprekingen regering Colombia en guerrillabeweging worden hervat   \n",
       "\n",
       "         Date      Time Category Images Paragraphs  \n",
       "0  2022-10-04  22:58:15     None   None       None  \n",
       "1  2022-10-04  22:43:15     None   None       None  \n",
       "2  2022-10-04  22:33:13     None   None       None  \n",
       "3  2022-10-04  21:56:48     None   None       None  \n",
       "4  2022-10-04  20:56:01     None   None       None  "
      ]
     },
     "execution_count": 171,
     "metadata": {},
     "output_type": "execute_result"
    }
   ],
   "source": [
    "test_set.head()"
   ]
  },
  {
   "cell_type": "code",
   "execution_count": 172,
   "id": "e26535ec",
   "metadata": {},
   "outputs": [
    {
     "name": "stdout",
     "output_type": "stream",
     "text": [
      "Elapsed time: 0 minutes and 0 seconds\n"
     ]
    }
   ],
   "source": [
    "start_time = time.time()\n",
    "\n",
    "for index, row in test_set.iterrows():\n",
    "    url = row['Link']\n",
    "    article_category, featured_image, target_paragraphs = extract_data_from_url(url)\n",
    "    \n",
    "    # Store the extracted data in your DataFrame (create new columns as needed)\n",
    "    test_set.at[index, 'Category'] = article_category\n",
    "    test_set.at[index, 'Images'] = featured_image\n",
    "    test_set.at[index, 'Paragraphs'] = target_paragraphs\n",
    "    \n",
    "end_time = time.time()\n",
    "elapsed_time = end_time - start_time\n",
    "elapsed_minutes = int(elapsed_time // 60)\n",
    "elapsed_seconds = int(elapsed_time % 60)\n",
    "\n",
    "\n",
    "print(f'Elapsed time: {elapsed_minutes} minutes and {elapsed_seconds} seconds')"
   ]
  },
  {
   "cell_type": "markdown",
   "id": "5621278a",
   "metadata": {},
   "source": [
    "Elapsed time for #rows\n",
    "\n",
    "    10 : 0 minutes and 0 seconds\n",
    "    100 : 0 minutes and 11 seconds\n",
    "    500 : 1 minutes and 53 seconds\n",
    "    1000 : 3 mintues and 5 seconds"
   ]
  },
  {
   "cell_type": "code",
   "execution_count": 173,
   "id": "208c2592",
   "metadata": {},
   "outputs": [
    {
     "data": {
      "text/plain": [
       "0    [Buitenland]\n",
       "Name: Category, dtype: object"
      ]
     },
     "execution_count": 173,
     "metadata": {},
     "output_type": "execute_result"
    }
   ],
   "source": [
    "test_set['Category'][:1]"
   ]
  },
  {
   "cell_type": "code",
   "execution_count": 174,
   "id": "0219fb15",
   "metadata": {},
   "outputs": [],
   "source": [
    "test_set.to_excel('NOS_testset_with articles.xlsx')"
   ]
  },
  {
   "cell_type": "code",
   "execution_count": null,
   "id": "1f6204fc",
   "metadata": {},
   "outputs": [],
   "source": []
  }
 ],
 "metadata": {
  "kernelspec": {
   "display_name": "Python 3 (ipykernel)",
   "language": "python",
   "name": "python3"
  },
  "language_info": {
   "codemirror_mode": {
    "name": "ipython",
    "version": 3
   },
   "file_extension": ".py",
   "mimetype": "text/x-python",
   "name": "python",
   "nbconvert_exporter": "python",
   "pygments_lexer": "ipython3",
   "version": "3.11.4"
  }
 },
 "nbformat": 4,
 "nbformat_minor": 5
}
