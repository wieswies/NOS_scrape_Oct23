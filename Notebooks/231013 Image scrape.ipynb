{
 "cells": [
  {
   "cell_type": "code",
   "execution_count": 79,
   "id": "8d77584a",
   "metadata": {
    "tags": []
   },
   "outputs": [
    {
     "ename": "ModuleNotFoundError",
     "evalue": "No module named 'github'",
     "output_type": "error",
     "traceback": [
      "\u001b[0;31m---------------------------------------------------------------------------\u001b[0m",
      "\u001b[0;31mModuleNotFoundError\u001b[0m                       Traceback (most recent call last)",
      "Cell \u001b[0;32mIn[79], line 3\u001b[0m\n\u001b[1;32m      1\u001b[0m \u001b[38;5;28;01mfrom\u001b[39;00m \u001b[38;5;21;01mbs4\u001b[39;00m \u001b[38;5;28;01mimport\u001b[39;00m BeautifulSoup\n\u001b[1;32m      2\u001b[0m \u001b[38;5;28;01mimport\u001b[39;00m \u001b[38;5;21;01mrequests\u001b[39;00m\n\u001b[0;32m----> 3\u001b[0m \u001b[38;5;28;01mfrom\u001b[39;00m \u001b[38;5;21;01mgithub\u001b[39;00m \u001b[38;5;28;01mimport\u001b[39;00m Github\n\u001b[1;32m      4\u001b[0m \u001b[38;5;28;01mimport\u001b[39;00m \u001b[38;5;21;01mos\u001b[39;00m\n\u001b[1;32m      5\u001b[0m \u001b[38;5;28;01mfrom\u001b[39;00m \u001b[38;5;21;01mPIL\u001b[39;00m \u001b[38;5;28;01mimport\u001b[39;00m Image\n",
      "\u001b[0;31mModuleNotFoundError\u001b[0m: No module named 'github'"
     ]
    }
   ],
   "source": [
    "from bs4 import BeautifulSoup\n",
    "import requests\n",
    "from github import Github\n",
    "import os\n",
    "from PIL import Image\n",
    "from io import BytesIO\n",
    "import pandas as pd\n",
    "import itertools\n",
    "import matplotlib.pyplot as plt\n",
    "import seaborn as sns\n",
    "import re\n",
    "import time\n",
    "from datetime import date, timedelta"
   ]
  },
  {
   "cell_type": "code",
   "execution_count": 80,
   "id": "d05b5d71-a996-4355-ab04-42a87321c0d9",
   "metadata": {
    "tags": []
   },
   "outputs": [
    {
     "name": "stdout",
     "output_type": "stream",
     "text": [
      "Collecting github\n",
      "  Using cached github-1.2.7-py3-none-any.whl (15 kB)\n",
      "Collecting aiohttp==3.8.1 (from github)\n",
      "  Using cached aiohttp-3.8.1.tar.gz (7.3 MB)\n",
      "  Installing build dependencies ... \u001b[?25ldone\n",
      "\u001b[?25h  Getting requirements to build wheel ... \u001b[?25ldone\n",
      "\u001b[?25h  Installing backend dependencies ... \u001b[?25ldone\n",
      "\u001b[?25h  Preparing metadata (pyproject.toml) ... \u001b[?25ldone\n",
      "\u001b[?25hRequirement already satisfied: typing-extensions in /Users/wiesruyters/anaconda3/lib/python3.11/site-packages (from github) (4.7.1)\n",
      "Requirement already satisfied: attrs>=17.3.0 in /Users/wiesruyters/anaconda3/lib/python3.11/site-packages (from aiohttp==3.8.1->github) (22.1.0)\n",
      "Requirement already satisfied: charset-normalizer<3.0,>=2.0 in /Users/wiesruyters/anaconda3/lib/python3.11/site-packages (from aiohttp==3.8.1->github) (2.0.4)\n",
      "Requirement already satisfied: multidict<7.0,>=4.5 in /Users/wiesruyters/anaconda3/lib/python3.11/site-packages (from aiohttp==3.8.1->github) (6.0.2)\n",
      "Requirement already satisfied: async-timeout<5.0,>=4.0.0a3 in /Users/wiesruyters/anaconda3/lib/python3.11/site-packages (from aiohttp==3.8.1->github) (4.0.2)\n",
      "Requirement already satisfied: yarl<2.0,>=1.0 in /Users/wiesruyters/anaconda3/lib/python3.11/site-packages (from aiohttp==3.8.1->github) (1.8.1)\n",
      "Requirement already satisfied: frozenlist>=1.1.1 in /Users/wiesruyters/anaconda3/lib/python3.11/site-packages (from aiohttp==3.8.1->github) (1.3.3)\n",
      "Requirement already satisfied: aiosignal>=1.1.2 in /Users/wiesruyters/anaconda3/lib/python3.11/site-packages (from aiohttp==3.8.1->github) (1.2.0)\n",
      "Requirement already satisfied: idna>=2.0 in /Users/wiesruyters/anaconda3/lib/python3.11/site-packages (from yarl<2.0,>=1.0->aiohttp==3.8.1->github) (3.4)\n",
      "Building wheels for collected packages: aiohttp\n",
      "  Building wheel for aiohttp (pyproject.toml) ... \u001b[?25lerror\n",
      "  \u001b[1;31merror\u001b[0m: \u001b[1msubprocess-exited-with-error\u001b[0m\n",
      "  \n",
      "  \u001b[31m×\u001b[0m \u001b[32mBuilding wheel for aiohttp \u001b[0m\u001b[1;32m(\u001b[0m\u001b[32mpyproject.toml\u001b[0m\u001b[1;32m)\u001b[0m did not run successfully.\n",
      "  \u001b[31m│\u001b[0m exit code: \u001b[1;36m1\u001b[0m\n",
      "  \u001b[31m╰─>\u001b[0m \u001b[31m[107 lines of output]\u001b[0m\n",
      "  \u001b[31m   \u001b[0m *********************\n",
      "  \u001b[31m   \u001b[0m * Accelerated build *\n",
      "  \u001b[31m   \u001b[0m *********************\n",
      "  \u001b[31m   \u001b[0m running bdist_wheel\n",
      "  \u001b[31m   \u001b[0m running build\n",
      "  \u001b[31m   \u001b[0m running build_py\n",
      "  \u001b[31m   \u001b[0m creating build\n",
      "  \u001b[31m   \u001b[0m creating build/lib.macosx-11.1-arm64-cpython-311\n",
      "  \u001b[31m   \u001b[0m creating build/lib.macosx-11.1-arm64-cpython-311/aiohttp\n",
      "  \u001b[31m   \u001b[0m copying aiohttp/web_ws.py -> build/lib.macosx-11.1-arm64-cpython-311/aiohttp\n",
      "  \u001b[31m   \u001b[0m copying aiohttp/worker.py -> build/lib.macosx-11.1-arm64-cpython-311/aiohttp\n",
      "  \u001b[31m   \u001b[0m copying aiohttp/multipart.py -> build/lib.macosx-11.1-arm64-cpython-311/aiohttp\n",
      "  \u001b[31m   \u001b[0m copying aiohttp/web_response.py -> build/lib.macosx-11.1-arm64-cpython-311/aiohttp\n",
      "  \u001b[31m   \u001b[0m copying aiohttp/client_ws.py -> build/lib.macosx-11.1-arm64-cpython-311/aiohttp\n",
      "  \u001b[31m   \u001b[0m copying aiohttp/test_utils.py -> build/lib.macosx-11.1-arm64-cpython-311/aiohttp\n",
      "  \u001b[31m   \u001b[0m copying aiohttp/tracing.py -> build/lib.macosx-11.1-arm64-cpython-311/aiohttp\n",
      "  \u001b[31m   \u001b[0m copying aiohttp/web_exceptions.py -> build/lib.macosx-11.1-arm64-cpython-311/aiohttp\n",
      "  \u001b[31m   \u001b[0m copying aiohttp/web_middlewares.py -> build/lib.macosx-11.1-arm64-cpython-311/aiohttp\n",
      "  \u001b[31m   \u001b[0m copying aiohttp/web.py -> build/lib.macosx-11.1-arm64-cpython-311/aiohttp\n",
      "  \u001b[31m   \u001b[0m copying aiohttp/http_exceptions.py -> build/lib.macosx-11.1-arm64-cpython-311/aiohttp\n",
      "  \u001b[31m   \u001b[0m copying aiohttp/web_app.py -> build/lib.macosx-11.1-arm64-cpython-311/aiohttp\n",
      "  \u001b[31m   \u001b[0m copying aiohttp/streams.py -> build/lib.macosx-11.1-arm64-cpython-311/aiohttp\n",
      "  \u001b[31m   \u001b[0m copying aiohttp/web_protocol.py -> build/lib.macosx-11.1-arm64-cpython-311/aiohttp\n",
      "  \u001b[31m   \u001b[0m copying aiohttp/log.py -> build/lib.macosx-11.1-arm64-cpython-311/aiohttp\n",
      "  \u001b[31m   \u001b[0m copying aiohttp/client.py -> build/lib.macosx-11.1-arm64-cpython-311/aiohttp\n",
      "  \u001b[31m   \u001b[0m copying aiohttp/web_urldispatcher.py -> build/lib.macosx-11.1-arm64-cpython-311/aiohttp\n",
      "  \u001b[31m   \u001b[0m copying aiohttp/web_request.py -> build/lib.macosx-11.1-arm64-cpython-311/aiohttp\n",
      "  \u001b[31m   \u001b[0m copying aiohttp/http_websocket.py -> build/lib.macosx-11.1-arm64-cpython-311/aiohttp\n",
      "  \u001b[31m   \u001b[0m copying aiohttp/client_proto.py -> build/lib.macosx-11.1-arm64-cpython-311/aiohttp\n",
      "  \u001b[31m   \u001b[0m copying aiohttp/locks.py -> build/lib.macosx-11.1-arm64-cpython-311/aiohttp\n",
      "  \u001b[31m   \u001b[0m copying aiohttp/__init__.py -> build/lib.macosx-11.1-arm64-cpython-311/aiohttp\n",
      "  \u001b[31m   \u001b[0m copying aiohttp/web_runner.py -> build/lib.macosx-11.1-arm64-cpython-311/aiohttp\n",
      "  \u001b[31m   \u001b[0m copying aiohttp/web_server.py -> build/lib.macosx-11.1-arm64-cpython-311/aiohttp\n",
      "  \u001b[31m   \u001b[0m copying aiohttp/base_protocol.py -> build/lib.macosx-11.1-arm64-cpython-311/aiohttp\n",
      "  \u001b[31m   \u001b[0m copying aiohttp/payload.py -> build/lib.macosx-11.1-arm64-cpython-311/aiohttp\n",
      "  \u001b[31m   \u001b[0m copying aiohttp/client_reqrep.py -> build/lib.macosx-11.1-arm64-cpython-311/aiohttp\n",
      "  \u001b[31m   \u001b[0m copying aiohttp/http.py -> build/lib.macosx-11.1-arm64-cpython-311/aiohttp\n",
      "  \u001b[31m   \u001b[0m copying aiohttp/web_log.py -> build/lib.macosx-11.1-arm64-cpython-311/aiohttp\n",
      "  \u001b[31m   \u001b[0m copying aiohttp/resolver.py -> build/lib.macosx-11.1-arm64-cpython-311/aiohttp\n",
      "  \u001b[31m   \u001b[0m copying aiohttp/formdata.py -> build/lib.macosx-11.1-arm64-cpython-311/aiohttp\n",
      "  \u001b[31m   \u001b[0m copying aiohttp/payload_streamer.py -> build/lib.macosx-11.1-arm64-cpython-311/aiohttp\n",
      "  \u001b[31m   \u001b[0m copying aiohttp/web_routedef.py -> build/lib.macosx-11.1-arm64-cpython-311/aiohttp\n",
      "  \u001b[31m   \u001b[0m copying aiohttp/connector.py -> build/lib.macosx-11.1-arm64-cpython-311/aiohttp\n",
      "  \u001b[31m   \u001b[0m copying aiohttp/client_exceptions.py -> build/lib.macosx-11.1-arm64-cpython-311/aiohttp\n",
      "  \u001b[31m   \u001b[0m copying aiohttp/typedefs.py -> build/lib.macosx-11.1-arm64-cpython-311/aiohttp\n",
      "  \u001b[31m   \u001b[0m copying aiohttp/hdrs.py -> build/lib.macosx-11.1-arm64-cpython-311/aiohttp\n",
      "  \u001b[31m   \u001b[0m copying aiohttp/web_fileresponse.py -> build/lib.macosx-11.1-arm64-cpython-311/aiohttp\n",
      "  \u001b[31m   \u001b[0m copying aiohttp/http_writer.py -> build/lib.macosx-11.1-arm64-cpython-311/aiohttp\n",
      "  \u001b[31m   \u001b[0m copying aiohttp/tcp_helpers.py -> build/lib.macosx-11.1-arm64-cpython-311/aiohttp\n",
      "  \u001b[31m   \u001b[0m copying aiohttp/helpers.py -> build/lib.macosx-11.1-arm64-cpython-311/aiohttp\n",
      "  \u001b[31m   \u001b[0m copying aiohttp/http_parser.py -> build/lib.macosx-11.1-arm64-cpython-311/aiohttp\n",
      "  \u001b[31m   \u001b[0m copying aiohttp/cookiejar.py -> build/lib.macosx-11.1-arm64-cpython-311/aiohttp\n",
      "  \u001b[31m   \u001b[0m copying aiohttp/pytest_plugin.py -> build/lib.macosx-11.1-arm64-cpython-311/aiohttp\n",
      "  \u001b[31m   \u001b[0m copying aiohttp/abc.py -> build/lib.macosx-11.1-arm64-cpython-311/aiohttp\n",
      "  \u001b[31m   \u001b[0m running egg_info\n",
      "  \u001b[31m   \u001b[0m writing aiohttp.egg-info/PKG-INFO\n",
      "  \u001b[31m   \u001b[0m writing dependency_links to aiohttp.egg-info/dependency_links.txt\n",
      "  \u001b[31m   \u001b[0m writing requirements to aiohttp.egg-info/requires.txt\n",
      "  \u001b[31m   \u001b[0m writing top-level names to aiohttp.egg-info/top_level.txt\n",
      "  \u001b[31m   \u001b[0m reading manifest file 'aiohttp.egg-info/SOURCES.txt'\n",
      "  \u001b[31m   \u001b[0m reading manifest template 'MANIFEST.in'\n",
      "  \u001b[31m   \u001b[0m warning: no files found matching 'aiohttp' anywhere in distribution\n",
      "  \u001b[31m   \u001b[0m warning: no previously-included files matching '*.pyc' found anywhere in distribution\n",
      "  \u001b[31m   \u001b[0m warning: no previously-included files matching '*.pyd' found anywhere in distribution\n",
      "  \u001b[31m   \u001b[0m warning: no previously-included files matching '*.so' found anywhere in distribution\n",
      "  \u001b[31m   \u001b[0m warning: no previously-included files matching '*.lib' found anywhere in distribution\n",
      "  \u001b[31m   \u001b[0m warning: no previously-included files matching '*.dll' found anywhere in distribution\n",
      "  \u001b[31m   \u001b[0m warning: no previously-included files matching '*.a' found anywhere in distribution\n",
      "  \u001b[31m   \u001b[0m warning: no previously-included files matching '*.obj' found anywhere in distribution\n",
      "  \u001b[31m   \u001b[0m warning: no previously-included files found matching 'aiohttp/*.html'\n",
      "  \u001b[31m   \u001b[0m no previously-included directories found matching 'docs/_build'\n",
      "  \u001b[31m   \u001b[0m adding license file 'LICENSE.txt'\n",
      "  \u001b[31m   \u001b[0m writing manifest file 'aiohttp.egg-info/SOURCES.txt'\n",
      "  \u001b[31m   \u001b[0m copying aiohttp/_cparser.pxd -> build/lib.macosx-11.1-arm64-cpython-311/aiohttp\n",
      "  \u001b[31m   \u001b[0m copying aiohttp/_find_header.c -> build/lib.macosx-11.1-arm64-cpython-311/aiohttp\n",
      "  \u001b[31m   \u001b[0m copying aiohttp/_find_header.h -> build/lib.macosx-11.1-arm64-cpython-311/aiohttp\n",
      "  \u001b[31m   \u001b[0m copying aiohttp/_find_header.pxd -> build/lib.macosx-11.1-arm64-cpython-311/aiohttp\n",
      "  \u001b[31m   \u001b[0m copying aiohttp/_headers.pxi -> build/lib.macosx-11.1-arm64-cpython-311/aiohttp\n",
      "  \u001b[31m   \u001b[0m copying aiohttp/_helpers.c -> build/lib.macosx-11.1-arm64-cpython-311/aiohttp\n",
      "  \u001b[31m   \u001b[0m copying aiohttp/_helpers.pyi -> build/lib.macosx-11.1-arm64-cpython-311/aiohttp\n",
      "  \u001b[31m   \u001b[0m copying aiohttp/_helpers.pyx -> build/lib.macosx-11.1-arm64-cpython-311/aiohttp\n",
      "  \u001b[31m   \u001b[0m copying aiohttp/_http_parser.c -> build/lib.macosx-11.1-arm64-cpython-311/aiohttp\n",
      "  \u001b[31m   \u001b[0m copying aiohttp/_http_parser.pyx -> build/lib.macosx-11.1-arm64-cpython-311/aiohttp\n",
      "  \u001b[31m   \u001b[0m copying aiohttp/_http_writer.c -> build/lib.macosx-11.1-arm64-cpython-311/aiohttp\n",
      "  \u001b[31m   \u001b[0m copying aiohttp/_http_writer.pyx -> build/lib.macosx-11.1-arm64-cpython-311/aiohttp\n",
      "  \u001b[31m   \u001b[0m copying aiohttp/_websocket.c -> build/lib.macosx-11.1-arm64-cpython-311/aiohttp\n",
      "  \u001b[31m   \u001b[0m copying aiohttp/_websocket.pyx -> build/lib.macosx-11.1-arm64-cpython-311/aiohttp\n",
      "  \u001b[31m   \u001b[0m copying aiohttp/py.typed -> build/lib.macosx-11.1-arm64-cpython-311/aiohttp\n",
      "  \u001b[31m   \u001b[0m creating build/lib.macosx-11.1-arm64-cpython-311/aiohttp/.hash\n",
      "  \u001b[31m   \u001b[0m copying aiohttp/.hash/_cparser.pxd.hash -> build/lib.macosx-11.1-arm64-cpython-311/aiohttp/.hash\n",
      "  \u001b[31m   \u001b[0m copying aiohttp/.hash/_find_header.pxd.hash -> build/lib.macosx-11.1-arm64-cpython-311/aiohttp/.hash\n",
      "  \u001b[31m   \u001b[0m copying aiohttp/.hash/_helpers.pyi.hash -> build/lib.macosx-11.1-arm64-cpython-311/aiohttp/.hash\n",
      "  \u001b[31m   \u001b[0m copying aiohttp/.hash/_helpers.pyx.hash -> build/lib.macosx-11.1-arm64-cpython-311/aiohttp/.hash\n",
      "  \u001b[31m   \u001b[0m copying aiohttp/.hash/_http_parser.pyx.hash -> build/lib.macosx-11.1-arm64-cpython-311/aiohttp/.hash\n",
      "  \u001b[31m   \u001b[0m copying aiohttp/.hash/_http_writer.pyx.hash -> build/lib.macosx-11.1-arm64-cpython-311/aiohttp/.hash\n",
      "  \u001b[31m   \u001b[0m copying aiohttp/.hash/_websocket.pyx.hash -> build/lib.macosx-11.1-arm64-cpython-311/aiohttp/.hash\n",
      "  \u001b[31m   \u001b[0m copying aiohttp/.hash/hdrs.py.hash -> build/lib.macosx-11.1-arm64-cpython-311/aiohttp/.hash\n",
      "  \u001b[31m   \u001b[0m running build_ext\n",
      "  \u001b[31m   \u001b[0m building 'aiohttp._websocket' extension\n",
      "  \u001b[31m   \u001b[0m creating build/temp.macosx-11.1-arm64-cpython-311\n",
      "  \u001b[31m   \u001b[0m creating build/temp.macosx-11.1-arm64-cpython-311/aiohttp\n",
      "  \u001b[31m   \u001b[0m clang -DNDEBUG -fwrapv -O2 -Wall -fPIC -O2 -isystem /Users/wiesruyters/anaconda3/include -arch arm64 -fPIC -O2 -isystem /Users/wiesruyters/anaconda3/include -arch arm64 -I/Users/wiesruyters/anaconda3/include/python3.11 -c aiohttp/_websocket.c -o build/temp.macosx-11.1-arm64-cpython-311/aiohttp/_websocket.o\n",
      "  \u001b[31m   \u001b[0m aiohttp/_websocket.c:198:12: fatal error: 'longintrepr.h' file not found\n",
      "  \u001b[31m   \u001b[0m   #include \"longintrepr.h\"\n",
      "  \u001b[31m   \u001b[0m            ^~~~~~~~~~~~~~~\n",
      "  \u001b[31m   \u001b[0m 1 error generated.\n",
      "  \u001b[31m   \u001b[0m error: command '/usr/bin/clang' failed with exit code 1\n",
      "  \u001b[31m   \u001b[0m \u001b[31m[end of output]\u001b[0m\n",
      "  \n",
      "  \u001b[1;35mnote\u001b[0m: This error originates from a subprocess, and is likely not a problem with pip.\n",
      "\u001b[31m  ERROR: Failed building wheel for aiohttp\u001b[0m\u001b[31m\n",
      "\u001b[0m\u001b[?25hFailed to build aiohttp\n",
      "\u001b[31mERROR: Could not build wheels for aiohttp, which is required to install pyproject.toml-based projects\u001b[0m\u001b[31m\n",
      "\u001b[0mNote: you may need to restart the kernel to use updated packages.\n"
     ]
    }
   ],
   "source": [
    "pip install github"
   ]
  },
  {
   "cell_type": "markdown",
   "id": "03bc906e-6ea7-4032-a870-595c10deed04",
   "metadata": {},
   "source": [
    "### Import dataset"
   ]
  },
  {
   "cell_type": "code",
   "execution_count": 21,
   "id": "98da7221",
   "metadata": {
    "tags": []
   },
   "outputs": [],
   "source": [
    "pd.set_option('display.max_colwidth', None)\n",
    "df = pd.read_excel('/Users/wiesruyters/Documents/WhD/Repositories/NOS_scrape/Datasets/NOS_articles_221004-231004_corrected.xlsx')"
   ]
  },
  {
   "cell_type": "code",
   "execution_count": 29,
   "id": "176ead65-eaa9-44e8-b11e-1fea5d7ab2f1",
   "metadata": {
    "tags": []
   },
   "outputs": [],
   "source": [
    "article_df = df.copy()"
   ]
  },
  {
   "cell_type": "code",
   "execution_count": 30,
   "id": "2648ac50-a598-4ecf-8ad2-41f325e79d82",
   "metadata": {
    "tags": []
   },
   "outputs": [],
   "source": [
    "article_df = article_df.drop('Unnamed: 0', axis=1)"
   ]
  },
  {
   "cell_type": "markdown",
   "id": "ce574f06-597f-4bbe-ba57-c1c3ea454acd",
   "metadata": {},
   "source": [
    "##### Basic statistics"
   ]
  },
  {
   "cell_type": "code",
   "execution_count": 74,
   "id": "75ffa9d2-46d5-4341-aff4-d2a818243572",
   "metadata": {
    "tags": []
   },
   "outputs": [
    {
     "name": "stdout",
     "output_type": "stream",
     "text": [
      "\n",
      "The columns present in the dataframe are respectively: \n",
      "['Article ID', 'Link', 'Title', 'Date', 'Time', 'Category', 'Images', 'Paragraphs', 'Month', 'Weekday']\n",
      "\n",
      "The shape of the dataframe is (13387, 10)\n",
      "\n",
      "The top-10 categories entail:\n",
      "['Buitenland']                            3904\n",
      "['Binnenland']                            2387\n",
      "['Economie']                               908\n",
      "['Politiek']                               688\n",
      "['Binnenland', 'Buitenland']               456\n",
      "['NH Nieuws', 'Regionaal nieuws']          277\n",
      "['Cultuur & Media']                        274\n",
      "['Omroep Brabant', 'Regionaal nieuws']     272\n",
      "['Binnenland', 'Politiek']                 206\n",
      "['Omroep West', 'Regionaal nieuws']        174\n",
      "Name: Category, dtype: int64\n",
      "\n",
      "The publishing rate (Oct '22 to Oct '23) per month was:\n",
      "October      1224\n",
      "March        1215\n",
      "November     1181\n",
      "December     1154\n",
      "May          1130\n",
      "June         1122\n",
      "April        1089\n",
      "January      1080\n",
      "September    1073\n",
      "July         1063\n",
      "August       1029\n",
      "February     1027\n",
      "Name: Month, dtype: int64\n",
      "\n"
     ]
    }
   ],
   "source": [
    "article_df['Month'] = article_df['Date'].dt.strftime('%B')\n",
    "article_df['Weekday'] = article_df['Date'].dt.weekday\n",
    "\n",
    "print(f'''\n",
    "The columns present in the dataframe are respectively: \\n{article_df.columns.to_list()}\n",
    "\\nThe shape of the dataframe is {article_df.shape}\n",
    "\\nThe top-10 categories entail:\\n{article_df['Category'].value_counts().head(10)}\n",
    "\\nThe publishing rate (Oct '22 to Oct '23) per month was:\\n{article_df['Month'].value_counts()}\n",
    "''')"
   ]
  },
  {
   "cell_type": "markdown",
   "id": "fa403b1a-8718-41f7-ba9f-9bd32ee84f6c",
   "metadata": {},
   "source": [
    "##### Correct datatypes"
   ]
  },
  {
   "cell_type": "code",
   "execution_count": 75,
   "id": "1afaa487-0ebf-4f6c-91a4-f5bd37d4800c",
   "metadata": {
    "tags": []
   },
   "outputs": [],
   "source": [
    "article_df['Date'] = pd.to_datetime(article_df['Date'], format='%Y-%m-%d').dt.date"
   ]
  },
  {
   "cell_type": "markdown",
   "id": "d9f447a9-251e-4c0f-acb3-24119ee917b9",
   "metadata": {},
   "source": [
    "### Build image scraper"
   ]
  },
  {
   "cell_type": "code",
   "execution_count": null,
   "id": "9d9b4d98-6aab-4227-915d-420c8035d839",
   "metadata": {},
   "outputs": [],
   "source": []
  }
 ],
 "metadata": {
  "kernelspec": {
   "display_name": "Python 3 (ipykernel)",
   "language": "python",
   "name": "python3"
  },
  "language_info": {
   "codemirror_mode": {
    "name": "ipython",
    "version": 3
   },
   "file_extension": ".py",
   "mimetype": "text/x-python",
   "name": "python",
   "nbconvert_exporter": "python",
   "pygments_lexer": "ipython3",
   "version": "3.11.4"
  }
 },
 "nbformat": 4,
 "nbformat_minor": 5
}
