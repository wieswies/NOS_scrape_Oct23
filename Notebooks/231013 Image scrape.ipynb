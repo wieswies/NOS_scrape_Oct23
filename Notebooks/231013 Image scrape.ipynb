{
 "cells": [
  {
   "cell_type": "code",
   "execution_count": 58,
   "id": "8d77584a",
   "metadata": {
    "tags": []
   },
   "outputs": [],
   "source": [
    "from bs4 import BeautifulSoup\n",
    "import requests\n",
    "import os\n",
    "from PIL import Image\n",
    "from io import BytesIO\n",
    "import pandas as pd\n",
    "import itertools\n",
    "import matplotlib.pyplot as plt\n",
    "import seaborn as sns\n",
    "import re\n",
    "import time\n",
    "from datetime import date, timedelta\n",
    "from urllib.parse import urlparse"
   ]
  },
  {
   "cell_type": "markdown",
   "id": "03bc906e-6ea7-4032-a870-595c10deed04",
   "metadata": {},
   "source": [
    "### Import dataset"
   ]
  },
  {
   "cell_type": "code",
   "execution_count": 112,
   "id": "98da7221",
   "metadata": {
    "tags": []
   },
   "outputs": [],
   "source": [
    "pd.set_option('display.max_colwidth', None)\n",
    "df = pd.read_excel('/Users/wiesruyters/Documents/WhD/Repositories/NOS_scrape/Datasets/NOS_articles_221004-231004_corrected.xlsx')"
   ]
  },
  {
   "cell_type": "code",
   "execution_count": 150,
   "id": "176ead65-eaa9-44e8-b11e-1fea5d7ab2f1",
   "metadata": {
    "tags": []
   },
   "outputs": [],
   "source": [
    "article_df = df.copy()"
   ]
  },
  {
   "cell_type": "code",
   "execution_count": 151,
   "id": "2648ac50-a598-4ecf-8ad2-41f325e79d82",
   "metadata": {
    "tags": []
   },
   "outputs": [],
   "source": [
    "article_df = article_df.drop('Unnamed: 0', axis=1)\n",
    "article_df['Images'] = article_df['Images'].str.replace(r\"[\\[\\]']\", '', regex = True)"
   ]
  },
  {
   "cell_type": "markdown",
   "id": "ce574f06-597f-4bbe-ba57-c1c3ea454acd",
   "metadata": {},
   "source": [
    "##### Basic statistics"
   ]
  },
  {
   "cell_type": "code",
   "execution_count": 152,
   "id": "75ffa9d2-46d5-4341-aff4-d2a818243572",
   "metadata": {
    "tags": []
   },
   "outputs": [
    {
     "name": "stdout",
     "output_type": "stream",
     "text": [
      "\n",
      "The columns present in the dataframe are respectively: \n",
      "['Article ID', 'Link', 'Title', 'Date', 'Time', 'Category', 'Images', 'Paragraphs', 'Month', 'Weekday']\n",
      "\n",
      "The shape of the dataframe is (13387, 10)\n",
      "\n",
      "The top-10 categories entail:\n",
      "['Buitenland']                            3904\n",
      "['Binnenland']                            2387\n",
      "['Economie']                               908\n",
      "['Politiek']                               688\n",
      "['Binnenland', 'Buitenland']               456\n",
      "['NH Nieuws', 'Regionaal nieuws']          277\n",
      "['Cultuur & Media']                        274\n",
      "['Omroep Brabant', 'Regionaal nieuws']     272\n",
      "['Binnenland', 'Politiek']                 206\n",
      "['Omroep West', 'Regionaal nieuws']        174\n",
      "Name: Category, dtype: int64\n",
      "\n",
      "The publishing rate (Oct '22 to Oct '23) per month was:\n",
      "October      1224\n",
      "March        1215\n",
      "November     1181\n",
      "December     1154\n",
      "May          1130\n",
      "June         1122\n",
      "April        1089\n",
      "January      1080\n",
      "September    1073\n",
      "July         1063\n",
      "August       1029\n",
      "February     1027\n",
      "Name: Month, dtype: int64\n",
      "\n"
     ]
    }
   ],
   "source": [
    "article_df['Date'] = pd.to_datetime(article_df['Date'], format='%Y-%m-%d')\n",
    "article_df['Month'] = article_df['Date'].dt.strftime('%B')\n",
    "article_df['Weekday'] = article_df['Date'].dt.weekday\n",
    "\n",
    "print(f'''\n",
    "The columns present in the dataframe are respectively: \\n{article_df.columns.to_list()}\n",
    "\\nThe shape of the dataframe is {article_df.shape}\n",
    "\\nThe top-10 categories entail:\\n{article_df['Category'].value_counts().head(10)}\n",
    "\\nThe publishing rate (Oct '22 to Oct '23) per month was:\\n{article_df['Month'].value_counts()}\n",
    "''')"
   ]
  },
  {
   "cell_type": "markdown",
   "id": "d9f447a9-251e-4c0f-acb3-24119ee917b9",
   "metadata": {},
   "source": [
    "### Create subset of political articles\n",
    "\n",
    "##### Establish lists for entity recognition\n",
    "political_parties: all parties taking seat in the second chamber, only including parties with more than 1 member or/and an established party name <br>\n",
    "tk_figures: subjective selection of members of the second chamber <br>\n",
    "cabinet_figures: all members of the Dutch cabinet"
   ]
  },
  {
   "cell_type": "code",
   "execution_count": 178,
   "id": "9d9b4d98-6aab-4227-915d-420c8035d839",
   "metadata": {
    "tags": []
   },
   "outputs": [],
   "source": [
    "political_parties = [\n",
    "    ' VVD', 'Volkspartij voor Vrijheid en Democratie',\n",
    "    ' D66', 'Democraten 66',\n",
    "    ' PVV', 'Partij voor de Vrijheid',\n",
    "    ' CDA', 'Christen Democraten',\n",
    "    ' SP ', ' SP.', ' SP,', ' SP:', ' SP;', ' SP-', 'Socialistische Partij',\n",
    "    ' GL ', 'GroenLinks',\n",
    "    ' PvdA', 'Partij van de Arbeid', 'P van de A',\n",
    "    ' PvdD', 'Partij voor de Dieren', 'P voor de D',\n",
    "    ' CU ', ' CU.', ' CU,', ' CU:', 'CU;', 'CU-', 'ChristenUnie', 'Christen Unie',\n",
    "    ' FVD', 'Forum voor Democratie', 'Forum',\n",
    "    ' SGP', 'Staatkundig Gereformeerde Partij',\n",
    "    ' Denk ', ' Denk.', ' Denk,', ' Denk:', ' Denk;', ' Denk-',\n",
    "    ' BBB', 'BoerBurgerBeweging', 'Boer Burger Beweging',\n",
    "    ' Volt',\n",
    "    ' Groep Van Haga',\n",
    "    ' JA21',\n",
    "    ' BIJ1',\n",
    "]\n",
    "\n",
    "tk_terms = [\n",
    "    'Tweede Kamer', 'Tweede Kamerlid',\n",
    "    'Volksvertegenwoordiger', 'Volksvertegenwoordiging',\n",
    "    'Coalitie', 'Oppositie', \n",
    "    'Partijprominent', 'Partij prominent',\n",
    "    'Kamervoorzitter'\n",
    "]\n",
    "\n",
    "tk_figures = [\n",
    "    'Fleur Agema', 'Agema',\n",
    "    'Farid Azarkan', 'Azarkan',\n",
    "    'Thierry Baudet', 'Baudet',\n",
    "    'Vera Bergkamp', 'Bergkamp',\n",
    "    'Mirjam Bikker', 'Bikker',\n",
    "    'Henri Bontebal', 'Bontebal',\n",
    "    'Martin Bosma', 'Bosma',\n",
    "    'Kauthar Bouchallikh', 'Bouchallikh',\n",
    "    'Laurens Dassen', 'Dassen',\n",
    "    'Joost Eerdmans', 'Eerdmans',\n",
    "    'Corinne Ellemeet', 'Ellemeet',\n",
    "    'Dion Graus', 'Graus',\n",
    "    'Nilüfer Gündoğan', 'Gündoğan',\n",
    "    'Wybren van Haga', 'van Haga',\n",
    "    'Erik Haverkort', 'Haverkort',\n",
    "    'Pieter Heerma', 'Heerma',\n",
    "    'Sophie Hermans', 'Hermans',\n",
    "    'Pepijn van Houwelingen', 'van Houwelingen',\n",
    "    'Jesse Klaver', 'Klaver',\n",
    "    'Tunahan Kuzu', 'Kuzu',\n",
    "    'Attje Kuiken', 'Kuiken',\n",
    "    'Lilian Marijnissen', 'Marijnissen',\n",
    "    'Henk Nijboer', 'Nijboer',\n",
    "    'Pieter Omtzigt', 'Omtzigt',\n",
    "    'Esther Ouwehand', 'Ouwehand',\n",
    "    'Jan Paternotte', 'Paternotte',\n",
    "    'Caroline van der Plas', 'van der Plas',\n",
    "    'Silvana Simons', 'Simons',\n",
    "    'Kees van der Staaij', 'van der Staaij',\n",
    "    'Sjoerd Sjoerdsma', 'Sjoerdsma',\n",
    "    'Judith Tielen', 'Tielen',\n",
    "    'Lisa Westerveld', 'Westerveld',\n",
    "    'Geert Wilders', 'Wilders'\n",
    "]\n",
    "\n",
    "cabinet_terms =[\n",
    "    'Staatssecretaris', 'Minister',\n",
    "    'Kabinet', 'Ministerraad', 'staats',\n",
    "    'Regering', 'Overheid', 'Bewindspersoon', 'Bewindspersonen',\n",
    "    'Minister President', 'Premier'\n",
    "]\n",
    "\n",
    "cabinet_figures = [\n",
    "    'Mark Rutte', 'Rutte',\n",
    "    'Sigrid Kaag', 'Kaag',\n",
    "    'Carola Schouten', 'Schouten',\n",
    "    'Karien van Gennip', 'van Gennip',\n",
    "    'Hanke Bruins Slot', 'Bruins Slot',\n",
    "    'Wopke Hoekstra', 'Hoekstra',\n",
    "    'Dilan Yeşilgöz-Zegerius', 'Yeşilgöz',\n",
    "    'Hugo de Jonge', 'de Jonge',\n",
    "    'Robbert Dijkgraaf', 'Dijkgraaf',\n",
    "    'Kajsa Ollongren', 'Ollongren',\n",
    "    'Mark Harbers', 'Harbers',\n",
    "    'Micky Adriaansens', 'Adriaansens',\n",
    "    'Piet Adema', 'Adema',\n",
    "    'Ernst Kuipers', 'Kuipers',\n",
    "    'Liesje Schreinemacher', 'Schreinemacher',\n",
    "    'Franc Weerwind', 'Weerwind',\n",
    "    'Mariëlle Paul', 'Paul',\n",
    "    'Rob Jetten', 'Jetten',\n",
    "    'Christianne van der Wal-Zeggelink', 'Christianne van der Wal', 'van der Wal',\n",
    "    'Conny Helder',\n",
    "    'Eeric van der Burg', 'van der Burg',\n",
    "    'Alexandra van Huffelen', 'van Huffelen',\n",
    "    'Gunay Uslu', 'Uslu',\n",
    "    'Marnix van Rij', 'van Rij',\n",
    "    'Aukje de Vries', 'de Vries',\n",
    "    'Christophe van der Maat', 'van der Maat',\n",
    "    'Vivianne Heijnen', 'Heijnen',\n",
    "    'Hans Vijlbrief', 'Vijlbrief',\n",
    "    'Maarten van Ooijen', 'van Ooijen'\n",
    "]\n",
    "\n",
    "lc_political_parties = [item.lower() for item in political_parties]\n",
    "lc_tk_terms = [item.lower() for item in tk_terms]\n",
    "lc_tk_figures = [item.lower() for item in tk_figures]\n",
    "lc_cabinet_terms = [item.lower() for item in cabinet_terms]\n",
    "lc_cabinet_figures = [item.lower() for item in cabinet_figures]"
   ]
  },
  {
   "cell_type": "code",
   "execution_count": 179,
   "id": "4c49a2f5",
   "metadata": {},
   "outputs": [],
   "source": [
    "lc_political_words = lc_political_parties + lc_tk_terms + lc_tk_figures + lc_cabinet_terms + lc_cabinet_figures"
   ]
  },
  {
   "cell_type": "markdown",
   "id": "16ebde09",
   "metadata": {},
   "source": [
    "Lowercase Paragraph and Title text to match entities better"
   ]
  },
  {
   "cell_type": "code",
   "execution_count": 180,
   "id": "f23dc02d-b5a9-43a2-bee6-9447001421b5",
   "metadata": {},
   "outputs": [],
   "source": [
    "article_df['lc Title'] = article_df['Title'].apply(lambda x: x.lower())\n",
    "article_df['lc Paragraphs'] = article_df['Paragraphs'].apply(lambda x: x.lower())"
   ]
  },
  {
   "cell_type": "markdown",
   "id": "f7174bba",
   "metadata": {},
   "source": [
    "Wordcounts"
   ]
  },
  {
   "cell_type": "code",
   "execution_count": 181,
   "id": "5041b4ed",
   "metadata": {},
   "outputs": [],
   "source": [
    "article_df['Political title'] = article_df['lc Title'].apply(lambda text: [word for word in political_words if word in text])"
   ]
  },
  {
   "cell_type": "code",
   "execution_count": 182,
   "id": "e58911ed",
   "metadata": {},
   "outputs": [],
   "source": [
    "article_df['Political paragraphs'] = article_df['lc Paragraphs'].apply(lambda text: [word for word in political_words if word in text])"
   ]
  },
  {
   "cell_type": "code",
   "execution_count": 183,
   "id": "ffa37a07",
   "metadata": {
    "scrolled": true
   },
   "outputs": [
    {
     "name": "stdout",
     "output_type": "stream",
     "text": [
      "\n",
      "The number of possibly political titles counts 1099 out of 13387 articles in total - about 8%\n",
      "\n",
      "The number of possibly political articles counts 6896 out of 13387 articles in total - about 51%\n",
      "\n"
     ]
    }
   ],
   "source": [
    "print(f'''\n",
    "The number of possibly political titles counts {article_df['Political title'].apply(lambda x: len(x) > 0).sum()} out of {len(article_df)} articles in total - about {int(article_df['Political title'].apply(lambda x: len(x) > 0).sum()/len(article_df)*100)}%\\n\n",
    "The number of possibly political articles counts {article_df['Political paragraphs'].apply(lambda x: len(x) > 0).sum()} out of {len(article_df)} articles in total - about {int(article_df['Political paragraphs'].apply(lambda x: len(x) > 0).sum()/len(article_df)*100)}%\n",
    "''')"
   ]
  },
  {
   "cell_type": "markdown",
   "id": "824b59c5",
   "metadata": {},
   "source": [
    "##### Create subset with possibly political titles, only with image urls"
   ]
  },
  {
   "cell_type": "code",
   "execution_count": 184,
   "id": "a2bf3e57",
   "metadata": {},
   "outputs": [],
   "source": [
    "political_titles = article_df[article_df['Political title'].apply(lambda x: len(x) > 0) & article_df['Images'].apply(lambda x: x!= '')] "
   ]
  },
  {
   "cell_type": "code",
   "execution_count": 191,
   "id": "43170d33",
   "metadata": {},
   "outputs": [
    {
     "data": {
      "text/plain": [
       "(1079, 14)"
      ]
     },
     "execution_count": 191,
     "metadata": {},
     "output_type": "execute_result"
    }
   ],
   "source": [
    "political_titles.shape"
   ]
  },
  {
   "cell_type": "markdown",
   "id": "c7084e0f",
   "metadata": {},
   "source": [
    "### Set-up image subtitle scraping"
   ]
  },
  {
   "cell_type": "code",
   "execution_count": 186,
   "id": "e20c9243",
   "metadata": {},
   "outputs": [],
   "source": [
    "def figcaption_scrape(url):\n",
    "    try: \n",
    "        response = requests.get(url)\n",
    "        response.raise_for_status()\n",
    "        \n",
    "        soup = BeautifulSoup(response.text, 'html.parser')\n",
    "        figcaption_element = soup.find('figcaption', class_='sc-8d6b37cc-2 kFTos')\n",
    "        \n",
    "        if figcaption_element:\n",
    "            return figcaption_element.get_text()\n",
    "        else:\n",
    "            return ''\n",
    "    except Exception as e:\n",
    "        return str(e)"
   ]
  },
  {
   "cell_type": "code",
   "execution_count": 187,
   "id": "0df35e4b",
   "metadata": {},
   "outputs": [
    {
     "name": "stdout",
     "output_type": "stream",
     "text": [
      "Elapsed time: 60 minutes and 37 seconds\n"
     ]
    }
   ],
   "source": [
    "start_time = time.time()\n",
    "\n",
    "article_df['Image subtitle'] = article_df['Link'].apply(figcaption_scrape)\n",
    "\n",
    "end_time = time.time()\n",
    "elapsed_time = end_time - start_time\n",
    "elapsed_minutes = int(elapsed_time // 60)\n",
    "elapsed_seconds = int(elapsed_time % 60)\n",
    "\n",
    "\n",
    "print(f'Elapsed time: {elapsed_minutes} minutes and {elapsed_seconds} seconds')"
   ]
  },
  {
   "cell_type": "code",
   "execution_count": 189,
   "id": "a4f39cd4",
   "metadata": {
    "scrolled": false
   },
   "outputs": [],
   "source": [
    "article_df.to_excel('NOS_articles_221004-231004_corrected_img_subscription.xlsx')"
   ]
  },
  {
   "cell_type": "markdown",
   "id": "dcbcda12",
   "metadata": {},
   "source": [
    "### Set-up image scraping for political title articles"
   ]
  },
  {
   "cell_type": "code",
   "execution_count": 192,
   "id": "a72ab9c3",
   "metadata": {},
   "outputs": [
    {
     "name": "stdout",
     "output_type": "stream",
     "text": [
      "Elapsed time: 1 minutes and 53 seconds\n"
     ]
    }
   ],
   "source": [
    "start_time = time.time()\n",
    "\n",
    "img_directory = '/Users/wiesruyters/Documents/WhD/Repositories/NOS_scrape/Images'\n",
    "\n",
    "if not os.path.exists(img_directory):\n",
    "    os.makedirs(img_directory)\n",
    "\n",
    "for index, row in political_titles.iterrows():\n",
    "    img_url = row['Images']\n",
    "    art_id = row['Article ID']\n",
    "    \n",
    "    if len(img_url) > 0:\n",
    "        img_response = requests.get(img_url)\n",
    "        \n",
    "        if img_response.status_code == 200:\n",
    "            img_filename = f\"article_{art_id}.jpg\"\n",
    "            img_path = os.path.join(img_directory, img_filename)\n",
    "            \n",
    "            with open(img_path, 'wb') as img_file:\n",
    "                img_file.write(img_response.content)\n",
    "            \n",
    "end_time = time.time()\n",
    "elapsed_time = end_time - start_time\n",
    "elapsed_minutes = int(elapsed_time // 60)\n",
    "elapsed_seconds = int(elapsed_time % 60)\n",
    "\n",
    "\n",
    "print(f'Elapsed time: {elapsed_minutes} minutes and {elapsed_seconds} seconds')"
   ]
  },
  {
   "cell_type": "code",
   "execution_count": null,
   "id": "045bd8eb",
   "metadata": {},
   "outputs": [],
   "source": []
  }
 ],
 "metadata": {
  "kernelspec": {
   "display_name": "Python 3 (ipykernel)",
   "language": "python",
   "name": "python3"
  },
  "language_info": {
   "codemirror_mode": {
    "name": "ipython",
    "version": 3
   },
   "file_extension": ".py",
   "mimetype": "text/x-python",
   "name": "python",
   "nbconvert_exporter": "python",
   "pygments_lexer": "ipython3",
   "version": "3.11.4"
  }
 },
 "nbformat": 4,
 "nbformat_minor": 5
}
